{
 "cells": [
  {
   "cell_type": "markdown",
   "metadata": {},
   "source": [
    "<h1> CASA Jupyter Notebook Tutorial </h1>\n",
    "\n",
    "Here I am presenting an example of a CASA jupyter notebook as a tutoe"
   ]
  },
  {
   "cell_type": "code",
   "execution_count": 3,
   "metadata": {},
   "outputs": [
    {
     "name": "stdout",
     "output_type": "stream",
     "text": [
      "As cross-check for the path show which IDI files are used:\n",
      "['/home/jupyter/data/ec067c_1_1.IDI1', '/home/jupyter/data/ec067c_1_1.IDI2']\n"
     ]
    }
   ],
   "source": [
    "import glob\n",
    "import shutil\n",
    "\n",
    "obsid = 'n14c3'\n",
    "\n",
    "mypath='/home/jupyter/data/'\n",
    "sys.path.append(mypath)\n",
    "\n",
    "#Visibility data\n",
    "idifiles = sorted(glob.glob(mypath+'*.IDI*'))\n",
    "vis = mypath+obsid+'.ms'\n",
    "\n",
    "print 'As cross-check for the path show which IDI files are used:'\n",
    "print idifiles\n",
    "\n",
    "#EVN archival calibration tables\n",
    "AIPSflag = mypath+obsid+'.uvflg'\n",
    "gcfile = mypath+'EVN.gc'\n",
    "antabfile = mypath+obsid+'.antab'\n",
    "\n",
    "#CASA calibration tables\n",
    "gcaltab = mypath+obsid+'.gcal'\n",
    "tsystab = mypath+obsid+'.tsys'\n",
    "sbdtab = mypath+obsid+'.sbd'\n",
    "mbdtab = mypath+obsid+'.mbd'\n",
    "bpasstab = mypath+obsid+'.bpass'\n",
    "flagtab = mypath+obsid+'.flag'\n",
    "\n",
    "listobsfile = mypath+obsid+'.listobs'"
   ]
  },
  {
   "cell_type": "code",
   "execution_count": null,
   "metadata": {},
   "outputs": [],
   "source": []
  }
 ],
 "metadata": {
  "kernelspec": {
   "display_name": "Casa",
   "language": "casa",
   "name": "casapy"
  },
  "language_info": {
   "mimetype": "text/plain",
   "name": "Casa"
  }
 },
 "nbformat": 4,
 "nbformat_minor": 2
}
