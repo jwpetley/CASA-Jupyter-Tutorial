{
 "cells": [
  {
   "cell_type": "markdown",
   "metadata": {},
   "source": [
    "<h1> CASA Jupyter Notebook Tutorial (and self-therapy that I understand things) </h1>\n",
    "    \n",
    "I will demonstrate how to process radio data obtained from the EVN experiment archive. This requires some fiddling at the start but then this notebook can be used to process that data in a more intuitive way, I believe, than using the CASA interactive python terminal."
   ]
  },
  {
   "cell_type": "markdown",
   "metadata": {},
   "source": [
    "<h2> Obtain your Data! </h2>\n",
    "    \n",
    "Please head to the following website and select an experiment to download:  http://www.jive.nl/select-experiment\n",
    "\n",
    "You can search by experiment or use other tools to search by project leader or object. If you want to follow along with this tutorial then choose experiment 'ES049B'. This contains an interesting radio jet source (hopefully). A simple way to do this is just to clone this github and follow along. \n",
    "\n",
    "You will want to download all of the FITS files of your chosen experiment and then head to the pipeline page. Use \"wget\" to target the links for \"Associated EVN Calibration\" and \"UVFLG Flagged Data\". The first will give you a zipped antab file which you should unzip before proceeding. "
   ]
  },
  {
   "cell_type": "markdown",
   "metadata": {},
   "source": [
    "<h3> Important Scripts </h3>"
   ]
  },
  {
   "cell_type": "markdown",
   "metadata": {},
   "source": [
    "You will also want to download some important scripts for CASA VLBI purposes. This can be done by cloning the casa-vlbi github (https://github.com/jive-vlbi/casa-vlbi) and pointing to it with your path (as shown below) or by downloading specifically the flag.py, gc,py and append_tsys.py scripts. The following steps should all be done outside the notebook. I have been encountering many errors if I try otherwise. "
   ]
  },
  {
   "cell_type": "markdown",
   "metadata": {},
   "source": [
    "To append the casa-vlbi github correctly to your path to achieve the following steps please use the following code\n",
    "\n",
    "`export PYCAPATH=<path_to_casa-vlbi_clone>\n",
    "export PYTHONPATH=<path_to_casa-vlbi_clone>:PYTHONPATH`\n",
    "\n",
    "This will make the following steps more simple.\n"
   ]
  },
  {
   "cell_type": "markdown",
   "metadata": {},
   "source": [
    "<h3> Automated Flagging </h3>\n",
    "\n",
    "First we need to create a flag file from the preflagged data from the pipeline. This will save us time manually flagging the data.\n",
    "\n",
    "`python $PYCAPATH/flag.py es049b.uvflg es049b_1_1.IDI1 > es049.flag`\n",
    "\n",
    "The flagging will be the same for all FITS files so you only need to use the first file. If you are not using es049b simply replace the file names.\n"
   ]
  },
  {
   "cell_type": "markdown",
   "metadata": {},
   "source": [
    "<h3> Incorporating System Temperatures </h3>"
   ]
  },
  {
   "cell_type": "markdown",
   "metadata": {},
   "source": [
    "Now we need to add the system temperatures from the antab file that we need for VLBI. This is simple to do but may take a few minutes, be patient! Maybe make a cup of tea/coffee. Also please run this only once. If an error occurs then revert to original setup before proceeding. \n",
    "\n",
    "`casa --nogui -c $PYCAPATH/append_tsys.py es049b.antab es049b_1_1.IDI*`"
   ]
  },
  {
   "cell_type": "markdown",
   "metadata": {},
   "source": [
    "<h3> Gain Curve Calibration </h3>"
   ]
  },
  {
   "cell_type": "markdown",
   "metadata": {},
   "source": [
    "We can also use the antab file to generate a gain curve calibration using the gc.py script. This is implemented in a similar way.\n",
    "\n",
    "`casa --nogui -c $PYCAPATH/gc.py es049b.antab EVN.gc`\n",
    "\n",
    "I often receive the following message when doing this:`Unsupported gain curve type for antenna WB` but I am assured that this is nothing to worry about."
   ]
  },
  {
   "cell_type": "markdown",
   "metadata": {},
   "source": [
    "<h2> Time to Start up CASA </h2>\n"
   ]
  },
  {
   "cell_type": "markdown",
   "metadata": {},
   "source": [
    "Now it's time to start up CASA. You could do this as normal with the interactive shell but here I am attempting to use a Docker image that allows a CASA kernel to be used within a Jupyter Notebook. If you also have this Docker Image and you would now like to use this notebook within that environment please use the following command:\n",
    "\n",
    "`docker run --rm -p 8888:8888 -i -t -v /tmp/.X11-unix:/tmp/.X11-unix -e DISPLAY=$DISPLAY -v <absolute_path_to_this_directory>:/home/jupyter/data penngwyn/jupytercasa`"
   ]
  },
  {
   "cell_type": "markdown",
   "metadata": {},
   "source": [
    "<h1> Check everything has worked so far </h1>\n",
    "\n",
    "If you can get to this step then I congratulate you as this is where I have struggled to get to most of the time. Now you should be able to run things within this notebook for the rest of the tutorial without much trouble!"
   ]
  },
  {
   "cell_type": "markdown",
   "metadata": {},
   "source": [
    "<h2> Import the fits files and convert to a CASA measurement set </h2> \n",
    "\n",
    "CASA uses its own formatted style of measurement set and so we need to convert our FITS_IDI files into this format. Fortunately CASA has a task that will allow us to do this. \n",
    "\n",
    "We use glob to match the file names in an easy way that should be applicable independent of how many FITS files your particular experiment may contain. The import task may also take a few minutes to run, if you inspect your terminal running the notebook it will count up the percentage completion. "
   ]
  },
  {
   "cell_type": "code",
   "execution_count": 8,
   "metadata": {},
   "outputs": [
    {
     "name": "stdout",
     "output_type": "stream",
     "text": [
      "['es049b_1_1.IDI1', 'es049b_1_1.IDI2', 'es049b_1_1.IDI3', 'es049b_1_1.IDI4', 'es049b_1_1.IDI5', 'es049b_1_1.IDI6']\n"
     ]
    }
   ],
   "source": [
    "import glob\n",
    "print(glob.glob('es049b*IDI?')) #Will print all the fits IDI files you have downloaded as a check\n",
    "\n",
    "vis = 'es049b.ms' #We name the visibility file for future use\n"
   ]
  },
  {
   "cell_type": "code",
   "execution_count": 14,
   "metadata": {},
   "outputs": [
    {
     "name": "stdout",
     "output_type": "stream",
     "text": [
      "*** Error *** 2020-11-05 15:16:03\tSEVERE\tFITSUtil::fromFITSHeader (file /usr/local/casa/casacore/fits/FITS/FITSSpectralUtil.cc, line 65)\tInconsistent input dataset: unknown ANTENNA_NO 0 in baseline used in UV_DATA table.\n"
     ]
    },
    {
     "data": {
      "text/html": [
       "<button type=\"button\"  style=\"background-color:red\"class=\"btn btn-info\" data-toggle=\"collapse\" id=\"1604589364_12\" data-target=\"#log1604589364_12\" onclick=\"if ($('#'+this.id).html()=='Show log') {$('#'+this.id).html('Hide log')} else {$('#'+this.id).html('Show log')}; return false\">Hide log</button> <div class=\"collapse in\" id=\"log1604589364_12\">2020-11-05 15:13:34\tINFO\timportfitsidi::::\t\n",
       "<br>2020-11-05 15:13:34\tINFO\timportfitsidi::::+\t##########################################\n",
       "<br>2020-11-05 15:13:34\tINFO\timportfitsidi::::+\t##### Begin Task: importfitsidi      #####\n",
       "<br>2020-11-05 15:13:34\tINFO\timportfitsidi::::\timportfitsidi(fitsidifile=['es049b_1_1.IDI1', 'es049b_1_1.IDI2', 'es049b_1_1.IDI3', 'es049b_1_1.IDI4', 'es049b_1_1.IDI5', 'es049b_1_1.IDI6'],vis=\"es049b.ms\",constobsid=True,scanreindexgap_s=15.0,specframe=\"GEO\")\n",
       "<br>2020-11-05 15:13:34\tINFO\timportfitsidi::::\t\n",
       "<br>2020-11-05 15:13:34\tINFO\timportfitsidi::::\t### Reading file es049b_1_1.IDI1\n",
       "<br>2020-11-05 15:13:35\tINFO\tFitsIDItoMS()::readFitsFile\tFound binary table ARRAY_GEOMETRY\n",
       "<br>2020-11-05 15:13:37\tINFO\tFitsIDItoMS::fillAntennaTable\tnumber of antennas = 8\n",
       "<br>2020-11-05 15:13:37\tINFO\tFitsIDItoMS::fillAntennaTable\tarray ref pos = [0, 0, 0]\n",
       "<br>2020-11-05 15:13:37\tWARN\tFitsIDItoMS::fillAntennaTable\tARRAY_GEOMETRY input table does not contain dish DIAMETER column.\n",
       "<br>2020-11-05 15:13:37\tWARN\tFitsIDItoMS::fillAntennaTable+\t Will assume default diameter for TELESCOPE EVN which is 0 m.\n",
       "<br>2020-11-05 15:13:38\tINFO\tFitsIDItoMS::fillAntennaTable\t   antenna_no 1 -> antenna ID 0\n",
       "<br>2020-11-05 15:13:38\tINFO\tFitsIDItoMS::fillAntennaTable+\t   antenna_no 2 -> antenna ID 1\n",
       "<br>2020-11-05 15:13:38\tINFO\tFitsIDItoMS::fillAntennaTable+\t   antenna_no 3 -> antenna ID 2\n",
       "<br>2020-11-05 15:13:38\tINFO\tFitsIDItoMS::fillAntennaTable+\t   antenna_no 4 -> antenna ID 3\n",
       "<br>2020-11-05 15:13:38\tINFO\tFitsIDItoMS::fillAntennaTable+\t   antenna_no 5 -> antenna ID 4\n",
       "<br>2020-11-05 15:13:38\tINFO\tFitsIDItoMS::fillAntennaTable+\t   antenna_no 6 -> antenna ID 5\n",
       "<br>2020-11-05 15:13:38\tINFO\tFitsIDItoMS::fillAntennaTable+\t   antenna_no 7 -> antenna ID 6\n",
       "<br>2020-11-05 15:13:38\tINFO\tFitsIDItoMS::fillAntennaTable+\t   antenna_no 8 -> antenna ID 7\n",
       "<br>2020-11-05 15:13:38\tINFO\tFitsIDItoMS()::readFitsFile\tFound binary table FREQUENCY\n",
       "<br>2020-11-05 15:13:42\tINFO\tFitsIDItoMS()::readFitsFile\tFound binary table SOURCE\n",
       "<br>2020-11-05 15:13:45\tINFO\tFitsIDItoMS()::readFitsFile\tFound binary table ANTENNA\n",
       "<br>2020-11-05 15:13:48\tINFO\tFitsIDItoMS()::readFitsFile\tNote: this ANTENNA table uses double precision for TIME_INTERVAL. Convention is single.\n",
       "<br>2020-11-05 15:13:48\tINFO\tFitsIDItoMS()::readFitsFile\tFound binary table UV_DATA\n",
       "<br>2020-11-05 15:13:51\tINFO\tFITSUtil::fromFITSHeader \tReading and writing visibility data\n",
       "<br>2020-11-05 15:16:03\tSEVERE\tFITSUtil::fromFITSHeader (file /usr/local/casa/casacore/fits/FITS/FITSSpectralUtil.cc, line 65)\tInconsistent input dataset: unknown ANTENNA_NO 0 in baseline used in UV_DATA table.\n",
       "<br>2020-11-05 15:16:04\tSEVERE\t\tException Reported: 2020-11-05 15:16:03\tSEVERE\tFITSUtil::fromFITSHeader (file /usr/local/casa/casacore/fits/FITS/FITSSpectralUtil.cc, line 65)\tInconsistent input dataset: unknown ANTENNA_NO 0 in baseline used in UV_DATA table.\n",
       "<br>2020-11-05 15:16:04\tSEVERE\timportfitsidi::::\tAn error occurred running task importfitsidi.\n",
       "</div>"
      ]
     },
     "metadata": {},
     "output_type": "display_data"
    }
   ],
   "source": [
    "#We now use the importfitsidi task to convert our files to a CASA MS\n",
    "\n",
    "importfitsidi(fitsidifile=sorted(glob.glob('es049b*IDI?')), vis=vis, \n",
    "                constobsid=True, scanreindexgap_s=15.0)"
   ]
  },
  {
   "cell_type": "code",
   "execution_count": 22,
   "metadata": {},
   "outputs": [
    {
     "ename": "NameError",
     "evalue": "name 'version' is not defined",
     "output_type": "error",
     "traceback": [
      "\u001b[0;31m---------------------------------------------------------------------------\u001b[0m",
      "\u001b[0;31mNameError\u001b[0m                                 Traceback (most recent call last)",
      "\u001b[0;32m<ipython-input-21-605b5d1778ad>\u001b[0m in \u001b[0;36m<module>\u001b[0;34m()\u001b[0m\n\u001b[0;32m----> 1\u001b[0;31m \u001b[0mversion\u001b[0m\u001b[0;34m\u001b[0m\u001b[0m\n\u001b[0m",
      "\u001b[0;31mNameError\u001b[0m: name 'version' is not defined"
     ]
    }
   ],
   "source": []
  },
  {
   "cell_type": "code",
   "execution_count": null,
   "metadata": {},
   "outputs": [],
   "source": []
  }
 ],
 "metadata": {
  "kernelspec": {
   "display_name": "Casa",
   "language": "casa",
   "name": "casapy"
  },
  "language_info": {
   "mimetype": "text/plain",
   "name": "Casa"
  }
 },
 "nbformat": 4,
 "nbformat_minor": 2
}
